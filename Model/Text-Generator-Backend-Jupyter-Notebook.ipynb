{
 "cells": [
  {
   "cell_type": "code",
   "execution_count": 286,
   "id": "b9548b9f",
   "metadata": {},
   "outputs": [],
   "source": [
    "import tensorflow as tf\n",
    "from tensorflow.keras.preprocessing.text import Tokenizer\n",
    "from tensorflow.keras.preprocessing.sequence import pad_sequences\n",
    "from tensorflow.keras import Sequential\n",
    "from tensorflow.keras.layers import LSTM, Embedding, Dense, Dropout\n",
    "import tarfile\n",
    "import os\n",
    "import numpy as np"
   ]
  },
  {
   "cell_type": "code",
   "execution_count": 12,
   "id": "cfafce14",
   "metadata": {},
   "outputs": [],
   "source": [
    "# Unzip Dataset\n",
    "  \n",
    "# open file\n",
    "file = tarfile.open('20news-group-dataset/20news-19997.tar.gz')\n",
    "  \n",
    "# extracting file\n",
    "file.extractall('./')\n",
    "  \n",
    "file.close()"
   ]
  },
  {
   "cell_type": "code",
   "execution_count": 468,
   "id": "eaa99e7a",
   "metadata": {},
   "outputs": [],
   "source": [
    "# os.chdir('20news-group-dataset/20_newsgroups/talk.politics.misc')\n",
    "files = []\n",
    "for i in range(300):\n",
    "    with open(os.listdir()[i], 'r') as f:\n",
    "           files.append(f.read())\n",
    "processed_text = []  \n",
    "for text_doc in files:\n",
    "    text = text_doc.split('\\n')\n",
    "    start = False\n",
    "    for line in text:\n",
    "        if 'writes:' in line:\n",
    "            start = True\n",
    "            continue\n",
    "        if start == True:\n",
    "            words = line.split()\n",
    "            without_nonalpha = [\"\".join([char.lower() for char in word if char.isalpha() or char.isnumeric()]) for word in words]\n",
    "            without_empties = list(filter(lambda x: x != '' , without_nonalpha))\n",
    "            if without_empties:\n",
    "                processed_text.append(without_empties)\n",
    "            \n"
   ]
  },
  {
   "cell_type": "code",
   "execution_count": 406,
   "id": "74fd88b6",
   "metadata": {},
   "outputs": [],
   "source": [
    "tokenizer = Tokenizer()\n",
    "\n",
    "\n",
    "def get_tokenized_sequences(corpus):\n",
    "    tokenizer.fit_on_texts(corpus)\n",
    "    num_words = len(tokenizer.word_index) +1\n",
    "    \n",
    "    input_seq = []\n",
    "    for line in corpus:\n",
    "        sequences = tokenizer.texts_to_sequences(line)\n",
    "        for i in range(1, len(sequences)+1):\n",
    "            input_seq.append(sequences[:i])\n",
    "            \n",
    "            \n",
    "    return input_seq, num_words\n",
    "    "
   ]
  },
  {
   "cell_type": "code",
   "execution_count": 407,
   "id": "b5a5665c",
   "metadata": {},
   "outputs": [],
   "source": [
    "def fit_labels(sequences):\n",
    "    label = []\n",
    "    for i in range(1, len(sequences)):\n",
    "        if len(sequences[i]) >= len(sequences[i-1]):\n",
    "            label.append(sequences[i][len(sequences[i])-1])\n",
    "        \n",
    "    return label\n",
    "        "
   ]
  },
  {
   "cell_type": "code",
   "execution_count": 469,
   "id": "f9bc9e5a",
   "metadata": {},
   "outputs": [],
   "source": [
    "sequences, num_words = get_tokenized_sequences(processed_text)\n",
    "\n",
    "padded_sequences = pad_sequences(sequences, padding='pre')\n",
    "\n",
    "max_len = len(padded_sequences[0])-1\n",
    "\n",
    "targets = padded_sequences[:,-1]\n",
    "features = padded_sequences[:, :-1]\n",
    "\n",
    "targets = targets.reshape(-1,)\n",
    "targets = tf.keras.utils.to_categorical(targets, num_classes=num_words)\n",
    "features = features.reshape(len(padded_sequences), max_len,)\n",
    "\n"
   ]
  },
  {
   "cell_type": "code",
   "execution_count": 470,
   "id": "f621d5d0",
   "metadata": {},
   "outputs": [],
   "source": [
    "model = Sequential()\n",
    "\n",
    "model.add(Embedding(num_words, 10, input_length = max_len))\n",
    "model.add(LSTM(50))\n",
    "model.add(Dropout(0.1))\n",
    "model.add(Dense(num_words, activation='softmax'))"
   ]
  },
  {
   "cell_type": "code",
   "execution_count": 471,
   "id": "1fc7fb04",
   "metadata": {},
   "outputs": [
    {
     "name": "stdout",
     "output_type": "stream",
     "text": [
      "Model: \"sequential_16\"\n",
      "_________________________________________________________________\n",
      "Layer (type)                 Output Shape              Param #   \n",
      "=================================================================\n",
      "embedding_16 (Embedding)     (None, 37, 10)            83240     \n",
      "_________________________________________________________________\n",
      "lstm_15 (LSTM)               (None, 50)                12200     \n",
      "_________________________________________________________________\n",
      "dropout_8 (Dropout)          (None, 50)                0         \n",
      "_________________________________________________________________\n",
      "dense_13 (Dense)             (None, 8324)              424524    \n",
      "=================================================================\n",
      "Total params: 519,964\n",
      "Trainable params: 519,964\n",
      "Non-trainable params: 0\n",
      "_________________________________________________________________\n"
     ]
    }
   ],
   "source": [
    "model.summary()"
   ]
  },
  {
   "cell_type": "code",
   "execution_count": 472,
   "id": "9f3e5b27",
   "metadata": {},
   "outputs": [],
   "source": [
    "model.compile(loss='categorical_crossentropy', optimizer='adam')"
   ]
  },
  {
   "cell_type": "code",
   "execution_count": 473,
   "id": "73f8d089",
   "metadata": {},
   "outputs": [
    {
     "name": "stdout",
     "output_type": "stream",
     "text": [
      "Epoch 1/100\n",
      "Epoch 2/100\n",
      "Epoch 3/100\n",
      "Epoch 4/100\n",
      "Epoch 5/100\n",
      "Epoch 6/100\n",
      "Epoch 7/100\n",
      "Epoch 8/100\n",
      "Epoch 9/100\n",
      "Epoch 10/100\n",
      "Epoch 11/100\n",
      "Epoch 12/100\n",
      "Epoch 13/100\n",
      "Epoch 14/100\n",
      "Epoch 15/100\n",
      "Epoch 16/100\n",
      "Epoch 17/100\n",
      "Epoch 18/100\n",
      "Epoch 19/100\n",
      "Epoch 20/100\n",
      "Epoch 21/100\n",
      "Epoch 22/100\n",
      "Epoch 23/100\n",
      "Epoch 24/100\n",
      "Epoch 25/100\n",
      "Epoch 26/100\n",
      "Epoch 27/100\n",
      "Epoch 28/100\n",
      "Epoch 29/100\n",
      "Epoch 30/100\n",
      "Epoch 31/100\n",
      "Epoch 32/100\n",
      "Epoch 33/100\n",
      "Epoch 34/100\n",
      "Epoch 35/100\n",
      "Epoch 36/100\n",
      "Epoch 37/100\n",
      "Epoch 38/100\n",
      "Epoch 39/100\n",
      "Epoch 40/100\n",
      "Epoch 41/100\n",
      "Epoch 42/100\n",
      "Epoch 43/100\n",
      "Epoch 44/100\n",
      "Epoch 45/100\n",
      "Epoch 46/100\n",
      "Epoch 47/100\n",
      "Epoch 48/100\n",
      "Epoch 49/100\n",
      "Epoch 50/100\n",
      "Epoch 51/100\n",
      "Epoch 52/100\n",
      "Epoch 53/100\n",
      "Epoch 54/100\n",
      "Epoch 55/100\n",
      "Epoch 56/100\n",
      "Epoch 57/100\n",
      "Epoch 58/100\n",
      "Epoch 59/100\n",
      "Epoch 60/100\n",
      "Epoch 61/100\n",
      "Epoch 62/100\n",
      "Epoch 63/100\n",
      "Epoch 64/100\n",
      "Epoch 65/100\n",
      "Epoch 66/100\n",
      "Epoch 67/100\n",
      "Epoch 68/100\n",
      "Epoch 69/100\n",
      "Epoch 70/100\n",
      "Epoch 71/100\n",
      "Epoch 72/100\n",
      "Epoch 73/100\n",
      "Epoch 74/100\n",
      "Epoch 75/100\n",
      "Epoch 76/100\n",
      "Epoch 77/100\n",
      "Epoch 78/100\n",
      "Epoch 79/100\n",
      "Epoch 80/100\n",
      "Epoch 81/100\n",
      "Epoch 82/100\n",
      "Epoch 83/100\n",
      "Epoch 84/100\n",
      "Epoch 85/100\n",
      "Epoch 86/100\n",
      "Epoch 87/100\n",
      "Epoch 88/100\n",
      "Epoch 89/100\n",
      "Epoch 90/100\n",
      "Epoch 91/100\n",
      "Epoch 92/100\n",
      "Epoch 93/100\n",
      "Epoch 94/100\n",
      "Epoch 95/100\n",
      "Epoch 96/100\n",
      "Epoch 97/100\n",
      "Epoch 98/100\n",
      "Epoch 99/100\n",
      "Epoch 100/100\n"
     ]
    },
    {
     "data": {
      "text/plain": [
       "<tensorflow.python.keras.callbacks.History at 0x14c04adc610>"
      ]
     },
     "execution_count": 473,
     "metadata": {},
     "output_type": "execute_result"
    }
   ],
   "source": [
    "model.fit(features, targets, epochs=100, verbose=5)"
   ]
  },
  {
   "cell_type": "code",
   "execution_count": 475,
   "id": "bbb1bbaa",
   "metadata": {},
   "outputs": [],
   "source": [
    "def generate(words, num_words, model, sequence_len):\n",
    "\n",
    "    for i in range(num_words):\n",
    "        sequence = pad_sequences(tokenizer.texts_to_sequences([words]), maxlen = sequence_len, padding='pre')\n",
    "    \n",
    "        word = tokenizer.index_word[np.argmax(model.predict(sequence), axis=-1)[-1]]\n",
    "        \n",
    "        words += ' ' + word\n",
    "    \n",
    "    return words\n"
   ]
  },
  {
   "cell_type": "code",
   "execution_count": 489,
   "id": "7639f5c1",
   "metadata": {
    "collapsed": true
   },
   "outputs": [
    {
     "data": {
      "text/plain": [
       "'soldier is that the us and the slave states did not been sustained for the same reich vetos given free by the politicians prefer naziplutonium under the same reich early that costs the talk of the'"
      ]
     },
     "execution_count": 489,
     "metadata": {},
     "output_type": "execute_result"
    }
   ],
   "source": [
    "generate('', 35, model, len(padded_sequences[0]))"
   ]
  },
  {
   "cell_type": "code",
   "execution_count": null,
   "id": "e837907c",
   "metadata": {},
   "outputs": [],
   "source": []
  }
 ],
 "metadata": {
  "kernelspec": {
   "display_name": "Python 3 (ipykernel)",
   "language": "python",
   "name": "python3"
  },
  "language_info": {
   "codemirror_mode": {
    "name": "ipython",
    "version": 3
   },
   "file_extension": ".py",
   "mimetype": "text/x-python",
   "name": "python",
   "nbconvert_exporter": "python",
   "pygments_lexer": "ipython3",
   "version": "3.8.5"
  }
 },
 "nbformat": 4,
 "nbformat_minor": 5
}
